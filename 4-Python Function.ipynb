{
 "cells": [
  {
   "cell_type": "raw",
   "id": "2402685a-4076-426a-9e6d-a5592b9c2ffc",
   "metadata": {},
   "source": [
    "Exercise 1: Create a function that takes in three arguments, two of which are optional. The first argument should be a required positional argument, the second argument should be a keyword argument with a default value of 10, and the third argument should be a keyword argument with a default value of None. The function should print the sum of the first two arguments if the third argument is None, and print the product of all three arguments if the third argument is not None. "
   ]
  },
  {
   "cell_type": "code",
   "execution_count": 5,
   "id": "c1b5ccb5-f6a9-40fa-81f3-3964001bdf31",
   "metadata": {},
   "outputs": [
    {
     "name": "stdout",
     "output_type": "stream",
     "text": [
      "Sum: 15\n",
      "Sum: 8\n",
      "Product: 30\n"
     ]
    }
   ],
   "source": [
    "def calculate(a, b=10, c=None):\n",
    "    if c is None:\n",
    "        print(\"Sum:\", a + b)\n",
    "    else:\n",
    "        print(\"Product:\", a * b * c)\n",
    "\n",
    "# Example 1:\n",
    "calculate(5)\n",
    "# Output:\n",
    "# Sum: 15\n",
    "\n",
    "# Example 2:\n",
    "calculate(5, 3)\n",
    "# Output:\n",
    "# Sum: 8\n",
    "\n",
    "# Example 3:\n",
    "calculate(5, 3, 2)\n",
    "# Output:\n",
    "# Product: 30\n"
   ]
  },
  {
   "cell_type": "raw",
   "id": "545e5b12-dc07-4141-9967-ad148c44463d",
   "metadata": {},
   "source": [
    "Exercise 2: Write a function that takes in a list of strings and returns a new list with only the strings that have a length greater than or equal to 5. "
   ]
  },
  {
   "cell_type": "code",
   "execution_count": 4,
   "id": "4ff20dd3-4282-4994-af9e-fea624c978f5",
   "metadata": {},
   "outputs": [
    {
     "name": "stdout",
     "output_type": "stream",
     "text": [
      "['apple', 'banana', 'grape']\n"
     ]
    }
   ],
   "source": [
    "def filter_long_words(words):\n",
    "    result = [word for word in words if len(word) >= 5]\n",
    "    return result\n",
    "\n",
    "# Example:\n",
    "words = [\"apple\", \"cat\", \"banana\", \"dog\", \"grape\"]\n",
    "print(filter_long_words(words))\n"
   ]
  },
  {
   "cell_type": "raw",
   "id": "fbab2fd4-c0ff-4e22-9117-7d2a0223cca0",
   "metadata": {},
   "source": [
    "Exercise 3: Write a Python program to evaluate a given mathematical expression using the eval() function. expression = \"3 * 5 + 2\" "
   ]
  },
  {
   "cell_type": "code",
   "execution_count": 3,
   "id": "159d4675-7e6b-43a1-ab26-4cfc6624cc37",
   "metadata": {},
   "outputs": [
    {
     "name": "stdout",
     "output_type": "stream",
     "text": [
      "The result is: 17\n"
     ]
    }
   ],
   "source": [
    "expression = \"3 * 5 + 2\"\n",
    "result = eval(expression)\n",
    "print(\"The result is:\", result)\n"
   ]
  },
  {
   "cell_type": "raw",
   "id": "bec01dac-cff6-47ce-a633-be0001907fa3",
   "metadata": {},
   "source": [
    "Exercise 4: Write a Python program to filter out the prime numbers from a given list of integers using the filter() function. "
   ]
  },
  {
   "cell_type": "code",
   "execution_count": 2,
   "id": "ddfdf7b7-4637-4463-87a5-6782382ae611",
   "metadata": {},
   "outputs": [
    {
     "name": "stdout",
     "output_type": "stream",
     "text": [
      "Prime numbers: [2, 7, 11, 13]\n"
     ]
    }
   ],
   "source": [
    "def is_prime(n):\n",
    "    if n <= 1:\n",
    "        return False\n",
    "    for i in range(2, int(n**0.5) + 1):\n",
    "        if n % i == 0:\n",
    "            return False\n",
    "    return True\n",
    "\n",
    "numbers = [2, 4, 6, 7, 11, 13, 16, 20]\n",
    "prime_numbers = list(filter(is_prime, numbers))\n",
    "print(\"Prime numbers:\", prime_numbers)\n"
   ]
  },
  {
   "cell_type": "raw",
   "id": "ba338350-d482-4f1a-afed-b9bb16d3884a",
   "metadata": {},
   "source": [
    "Exercise 5: Write a Python program to convert a list of strings to uppercase using the map() function."
   ]
  },
  {
   "cell_type": "code",
   "execution_count": 1,
   "id": "927ff4ae-faf8-4d97-b1e3-1f4193fb5e94",
   "metadata": {},
   "outputs": [
    {
     "name": "stdout",
     "output_type": "stream",
     "text": [
      "Uppercase: ['APPLE', 'BANANA', 'GRAPE']\n"
     ]
    }
   ],
   "source": [
    "words = [\"apple\", \"banana\", \"grape\"]\n",
    "upper_words = list(map(str.upper, words))\n",
    "print(\"Uppercase:\", upper_words)\n"
   ]
  },
  {
   "cell_type": "code",
   "execution_count": null,
   "id": "36f899e4-1e31-48a4-8fd1-8724d843b8e5",
   "metadata": {},
   "outputs": [],
   "source": []
  }
 ],
 "metadata": {
  "kernelspec": {
   "display_name": "Python 3 (ipykernel)",
   "language": "python",
   "name": "python3"
  },
  "language_info": {
   "codemirror_mode": {
    "name": "ipython",
    "version": 3
   },
   "file_extension": ".py",
   "mimetype": "text/x-python",
   "name": "python",
   "nbconvert_exporter": "python",
   "pygments_lexer": "ipython3",
   "version": "3.12.7"
  }
 },
 "nbformat": 4,
 "nbformat_minor": 5
}
