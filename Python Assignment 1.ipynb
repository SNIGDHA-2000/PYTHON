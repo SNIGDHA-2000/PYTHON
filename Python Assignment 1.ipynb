{
 "cells": [
  {
   "cell_type": "markdown",
   "id": "bb6ce6b7-621c-4401-9867-46aa47122671",
   "metadata": {},
   "source": [
    "1. Write Python code that prints your name, student number and email address. "
   ]
  },
  {
   "cell_type": "code",
   "execution_count": 1,
   "id": "adeac8b4-5d2a-425b-8e75-3016767477a5",
   "metadata": {},
   "outputs": [
    {
     "name": "stdout",
     "output_type": "stream",
     "text": [
      "Snigdha Suseel\n",
      "ST0027\n",
      "snigdhasuseel@gmail.com\n"
     ]
    }
   ],
   "source": [
    "print('Snigdha Suseel')\n",
    "print('ST0027')\n",
    "print('snigdhasuseel@gmail.com')"
   ]
  },
  {
   "cell_type": "markdown",
   "id": "b6c19f81-c9be-4174-81c4-a2d04e62f040",
   "metadata": {},
   "source": [
    "2. Write Python code that prints your name, student number and email address using escape sequences.     \n"
   ]
  },
  {
   "cell_type": "code",
   "execution_count": 2,
   "id": "cd815a6a-a046-4853-b0bc-11bcf2e70f4e",
   "metadata": {},
   "outputs": [
    {
     "name": "stdout",
     "output_type": "stream",
     "text": [
      "Snigdha Suseel \n",
      "ST0027 \n",
      "snigdhasuseel@gmail.com\n"
     ]
    }
   ],
   "source": [
    "print('Snigdha Suseel \\nST0027 \\nsnigdhasuseel@gmail.com')"
   ]
  },
  {
   "cell_type": "markdown",
   "id": "75a745c3-2c17-4971-b708-ee5cd4a65fdc",
   "metadata": {},
   "source": [
    "3. Write Python code that add, subtract, multiply and divide the two numbers. You can use the two numbers 14 and 7.  An example run of the program:  \n"
   ]
  },
  {
   "cell_type": "code",
   "execution_count": 4,
   "id": "eb331298-0ce1-439e-ac41-19c47d67812b",
   "metadata": {},
   "outputs": [
    {
     "name": "stdout",
     "output_type": "stream",
     "text": [
      "14+7= 21\n",
      "14-7= 7\n",
      "14*7= 98\n",
      "14/7= 2\n"
     ]
    }
   ],
   "source": [
    "a=14\n",
    "b=7\n",
    "c=a+b\n",
    "d=a-b\n",
    "e=a*b\n",
    "f=int(a/b)\n",
    "print('14+7=',c)\n",
    "print('14-7=',d)\n",
    "print('14*7=',e)\n",
    "print('14/7=',f)"
   ]
  },
  {
   "cell_type": "markdown",
   "id": "87d1e9db-fbdb-48bf-88e6-a7171a45c1cb",
   "metadata": {},
   "source": [
    "4.Write Python code that displays the numbers from 1 to 5 as steps. "
   ]
  },
  {
   "cell_type": "code",
   "execution_count": 5,
   "id": "3a3c8d45-b162-48f4-851c-cb965708dd0f",
   "metadata": {},
   "outputs": [
    {
     "name": "stdout",
     "output_type": "stream",
     "text": [
      "1 \n",
      "2 \n",
      "3 \n",
      "4 \n",
      "5\n"
     ]
    }
   ],
   "source": [
    "print('1 \\n2 \\n3 \\n4 \\n5')"
   ]
  },
  {
   "cell_type": "markdown",
   "id": "84891838-8ef9-4452-b6eb-585c1af7831d",
   "metadata": {},
   "source": [
    "5.Write Python code that outputs the following sentence"
   ]
  },
  {
   "cell_type": "code",
   "execution_count": 6,
   "id": "3f244b68-b3e2-4a8a-a5ad-9b74b253992a",
   "metadata": {},
   "outputs": [
    {
     "name": "stdout",
     "output_type": "stream",
     "text": [
      "\"SDK\" stands for \"Software Development Kit\", whereas \n",
      "\"IDE\" stands for \"Integrated Development Environment\".\n"
     ]
    }
   ],
   "source": [
    "print('\"SDK\" stands for \"Software Development Kit\", whereas \\n\"IDE\" stands for \"Integrated Development Environment\".')\n"
   ]
  },
  {
   "cell_type": "markdown",
   "id": "77c0cc89-6e28-46db-a93d-dde7e7f6c053",
   "metadata": {},
   "source": [
    "6.Practice and check the output\n"
   ]
  },
  {
   "cell_type": "code",
   "execution_count": 7,
   "id": "1c369c04-66e0-4833-b079-b3812a3d4d93",
   "metadata": {},
   "outputs": [
    {
     "name": "stdout",
     "output_type": "stream",
     "text": [
      "python is an \"awesome\" language.\n",
      "python\n",
      "\t2023\n",
      "I'm from Entri\n",
      "5\n",
      "e\n",
      "Entri\n",
      "2023\n",
      "Entr2023\n",
      "Entri*20"
     ]
    }
   ],
   "source": [
    "print(\"python is an \\\"awesome\\\" language.\")\n",
    "print(\"python\\n\\t2023\")\n",
    "print('I\\'m from Entri.\\b')\n",
    "print(\"\\65\")\n",
    "print(\"\\x65\")\n",
    "print(\"Entri\", \"2023\", sep=\"\\n\")\n",
    "print(\"Entri\", \"2023\", sep=\"\\b\")\n",
    "print(\"Entri\", \"2023\", sep=\"*\", end=\"\\b\\b\\b\\b\")\n"
   ]
  },
  {
   "cell_type": "markdown",
   "id": "9dbb7c05-d391-45ae-a565-f1f6555e43b9",
   "metadata": {},
   "source": [
    "7.Define the variables below. Print the types of each variable. What is the sum of your variables? "
   ]
  },
  {
   "cell_type": "code",
   "execution_count": 14,
   "id": "8501940a-8802-4b28-b94f-57855f67007b",
   "metadata": {},
   "outputs": [
    {
     "name": "stdout",
     "output_type": "stream",
     "text": [
      "<class 'int'>\n",
      "<class 'str'>\n",
      "<class 'float'>\n",
      "sum= 178.3\n",
      "<class 'float'>\n"
     ]
    }
   ],
   "source": [
    "num=23\n",
    "textnum=\"57\"\n",
    "decimal=98.3\n",
    "#types of each variable\n",
    "print(type(num))\n",
    "print(type(textnum))\n",
    "print(type(decimal))\n",
    "#sum of variables\n",
    "sum=num+int(textnum)+decimal\n",
    "print('sum=',sum)\n",
    "#data type of sum\n",
    "print(type(sum))\n",
    "\n",
    "\n"
   ]
  },
  {
   "cell_type": "markdown",
   "id": "60964bdb-5b13-49f2-a74f-6de1f1c19125",
   "metadata": {},
   "source": [
    "8.calculate the number of minutes in a year using variables for each unit of time. print a statement that describes what your code does also. Create three variables to store no of days in a year, minute in a hour, hours in a day, then calculate the total minutes in a year and print the values"
   ]
  },
  {
   "cell_type": "code",
   "execution_count": 16,
   "id": "b52c79d0-6bd8-496f-8fe4-a68bd33d650e",
   "metadata": {},
   "outputs": [
    {
     "name": "stdout",
     "output_type": "stream",
     "text": [
      "This shows the total minutes in a day\n",
      "Total minutes in a year= 525600\n"
     ]
    }
   ],
   "source": [
    "days_in_a_year=365\n",
    "minute_in_a_hour=60\n",
    "hours_in_a_day=24\n",
    "total_minutes_in_a_year=days_in_a_year*minute_in_a_hour*hours_in_a_day\n",
    "print('This shows the total minutes in a day')\n",
    "print('Total minutes in a year=',total_minutes_in_a_year)\n"
   ]
  },
  {
   "cell_type": "markdown",
   "id": "784e925f-e431-467d-8372-93e2d02476e6",
   "metadata": {},
   "source": [
    "9.Write Python code that asks the user to enter his/her name and then output/prints his/her name with a greeting.\n"
   ]
  },
  {
   "cell_type": "code",
   "execution_count": 18,
   "id": "20c38882-a134-4b59-8726-a971ad29f498",
   "metadata": {},
   "outputs": [
    {
     "name": "stdin",
     "output_type": "stream",
     "text": [
      "please enter your name: bob\n"
     ]
    },
    {
     "name": "stdout",
     "output_type": "stream",
     "text": [
      "Hi bob, welcome to python programming :)\n"
     ]
    }
   ],
   "source": [
    "name=input('please enter your name:')\n",
    "print(f\"Hi {name}, welcome to python programming :)\")"
   ]
  },
  {
   "cell_type": "markdown",
   "id": "98506e12-654b-4a8a-aeec-1eec4ca793a3",
   "metadata": {},
   "source": [
    "10.Write a program that asks the user to enter an amount in pounds (£) and the program calculates and converts an amount in dollar ($)\n"
   ]
  },
  {
   "cell_type": "code",
   "execution_count": 20,
   "id": "dc04b8e0-b7f0-45df-9c39-1a18743c1009",
   "metadata": {},
   "outputs": [
    {
     "name": "stdin",
     "output_type": "stream",
     "text": [
      "enter an amount in pounds: 14\n"
     ]
    },
    {
     "name": "stdout",
     "output_type": "stream",
     "text": [
      "pounds14.0 is $18.2\n"
     ]
    }
   ],
   "source": [
    "pounds=float(input('enter an amount in pounds:'))\n",
    "exchange_rate=1.3\n",
    "dollars=pounds*exchange_rate\n",
    "print(f\"pounds{pounds} is ${dollars}\")\n",
    "             \n"
   ]
  },
  {
   "cell_type": "code",
   "execution_count": null,
   "id": "d3b54679-933b-428d-be94-48f7d8404145",
   "metadata": {},
   "outputs": [],
   "source": []
  }
 ],
 "metadata": {
  "kernelspec": {
   "display_name": "Python 3 (ipykernel)",
   "language": "python",
   "name": "python3"
  },
  "language_info": {
   "codemirror_mode": {
    "name": "ipython",
    "version": 3
   },
   "file_extension": ".py",
   "mimetype": "text/x-python",
   "name": "python",
   "nbconvert_exporter": "python",
   "pygments_lexer": "ipython3",
   "version": "3.12.7"
  }
 },
 "nbformat": 4,
 "nbformat_minor": 5
}
