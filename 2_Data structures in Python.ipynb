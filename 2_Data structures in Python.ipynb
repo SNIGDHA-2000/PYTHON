{
 "cells": [
  {
   "cell_type": "markdown",
   "id": "fd33103f-bb33-496d-945a-b4d4a314cb60",
   "metadata": {},
   "source": [
    "Q1. Create a list of 5 random numbers and print the list."
   ]
  },
  {
   "cell_type": "code",
   "execution_count": 2,
   "id": "7e8b8567-825f-494d-ad0c-5ba1d71d5dc3",
   "metadata": {},
   "outputs": [
    {
     "name": "stdout",
     "output_type": "stream",
     "text": [
      "Original list: [37, 73, 43, 99, 51]\n"
     ]
    }
   ],
   "source": [
    "import random\n",
    "\n",
    "numbers = random.sample(range(1, 100), 5)\n",
    "print(\"Original list:\", numbers)\n"
   ]
  },
  {
   "cell_type": "markdown",
   "id": "9a7612f8-e3d2-4909-a777-b70c18c24d0b",
   "metadata": {},
   "source": [
    "Q2. Insert 3 new values to the list and print the updated list."
   ]
  },
  {
   "cell_type": "code",
   "execution_count": 3,
   "id": "fb931793-085c-4574-96f2-641791303580",
   "metadata": {},
   "outputs": [
    {
     "name": "stdout",
     "output_type": "stream",
     "text": [
      "Updated list: [37, 73, 43, 99, 51, 101, 202, 303]\n"
     ]
    }
   ],
   "source": [
    "numbers.extend([101, 202, 303])\n",
    "print(\"Updated list:\", numbers)\n"
   ]
  },
  {
   "cell_type": "markdown",
   "id": "d9865dd5-4802-4917-8574-d0b73c8428b0",
   "metadata": {},
   "source": [
    "Q3. Try to use a for loop to print each element in the list."
   ]
  },
  {
   "cell_type": "code",
   "execution_count": 4,
   "id": "b1995a00-82a3-4196-b0b3-06cf8722f70a",
   "metadata": {},
   "outputs": [
    {
     "name": "stdout",
     "output_type": "stream",
     "text": [
      "Elements in the list:\n",
      "37\n",
      "73\n",
      "43\n",
      "99\n",
      "51\n",
      "101\n",
      "202\n",
      "303\n"
     ]
    }
   ],
   "source": [
    "print(\"Elements in the list:\")\n",
    "for num in numbers:\n",
    "    print(num)\n"
   ]
  },
  {
   "cell_type": "markdown",
   "id": "570ea2fd-981b-4c7b-bf06-4533b554e326",
   "metadata": {},
   "source": [
    "Q4. Create a dictionary with keys 'name', 'age', and 'address' and values 'John', 25, and 'New York' respectively."
   ]
  },
  {
   "cell_type": "code",
   "execution_count": 5,
   "id": "4bcf6d0a-8aed-4638-b80c-67c55cc90020",
   "metadata": {},
   "outputs": [
    {
     "name": "stdout",
     "output_type": "stream",
     "text": [
      "Initial dictionary: {'name': 'John', 'age': 25, 'address': 'New York'}\n"
     ]
    }
   ],
   "source": [
    "person = {\n",
    "    'name': 'John',\n",
    "    'age': 25,\n",
    "    'address': 'New York'\n",
    "}\n",
    "print(\"Initial dictionary:\", person)\n"
   ]
  },
  {
   "cell_type": "markdown",
   "id": "2bdcaa6b-34f6-4c58-b522-a7d3f04e39f4",
   "metadata": {},
   "source": [
    "Q5. Add a new key-value pair to the dictionary created in Q1 with key 'phone' and value '1234567890'."
   ]
  },
  {
   "cell_type": "code",
   "execution_count": 7,
   "id": "5468daf2-eed1-4fae-91a1-4a5f6a3d4b4d",
   "metadata": {},
   "outputs": [
    {
     "name": "stdout",
     "output_type": "stream",
     "text": [
      "Updated dictionary: {'name': 'John', 'age': 25, 'address': 'New York', 'phone': '1234567890'}\n"
     ]
    }
   ],
   "source": [
    "person['phone'] = '1234567890'\n",
    "print(\"Updated dictionary:\", person)\n"
   ]
  },
  {
   "cell_type": "markdown",
   "id": "b4515620-0014-4a77-bcf7-9447d9e0ca85",
   "metadata": {},
   "source": [
    "Q6.Create a set with values 1, 2, 3, 4, and 5."
   ]
  },
  {
   "cell_type": "code",
   "execution_count": 6,
   "id": "1d01c30a-c46d-4681-b707-4e103b5f1c2c",
   "metadata": {},
   "outputs": [
    {
     "name": "stdout",
     "output_type": "stream",
     "text": [
      "Original set: {1, 2, 3, 4, 5}\n"
     ]
    }
   ],
   "source": [
    "my_set = {1, 2, 3, 4, 5}\n",
    "print(\"Original set:\", my_set)\n"
   ]
  },
  {
   "cell_type": "markdown",
   "id": "93305310-d09d-4459-a381-a7e5abec153f",
   "metadata": {},
   "source": [
    "Q7. Add the value 6 to the set created in Q1."
   ]
  },
  {
   "cell_type": "code",
   "execution_count": 8,
   "id": "b0aaa2b6-27e9-4fa0-8e11-7bf3d2f99816",
   "metadata": {},
   "outputs": [
    {
     "name": "stdout",
     "output_type": "stream",
     "text": [
      "Set after adding 6: {1, 2, 3, 4, 5, 6}\n"
     ]
    }
   ],
   "source": [
    "my_set.add(6)\n",
    "print(\"Set after adding 6:\", my_set)\n"
   ]
  },
  {
   "cell_type": "markdown",
   "id": "77d5aea8-270d-4b27-9b66-c507838db767",
   "metadata": {},
   "source": [
    "Q8. Remove the value 3 from the set created in Q1."
   ]
  },
  {
   "cell_type": "code",
   "execution_count": 9,
   "id": "10beb0b4-a6dc-4c13-8787-4163436c4810",
   "metadata": {},
   "outputs": [
    {
     "name": "stdout",
     "output_type": "stream",
     "text": [
      "Set after removing 3: {1, 2, 4, 5, 6}\n"
     ]
    }
   ],
   "source": [
    "my_set.discard(3)\n",
    "print(\"Set after removing 3:\", my_set)\n"
   ]
  },
  {
   "cell_type": "markdown",
   "id": "8681a734-e01a-4673-87a3-57e5d89509f6",
   "metadata": {},
   "source": [
    "Q9. Create a tuple with values 1, 2, 3, and 4"
   ]
  },
  {
   "cell_type": "code",
   "execution_count": 10,
   "id": "42973889-0918-41ee-86a7-59a29c47a194",
   "metadata": {},
   "outputs": [
    {
     "name": "stdout",
     "output_type": "stream",
     "text": [
      "Tuple: (1, 2, 3, 4)\n"
     ]
    }
   ],
   "source": [
    "my_tuple = (1, 2, 3, 4)\n",
    "print(\"Tuple:\", my_tuple)\n"
   ]
  },
  {
   "cell_type": "markdown",
   "id": "00e52143-8e39-4ef5-baf6-0e2cf3db98b5",
   "metadata": {},
   "source": [
    "Q10. Print the length of the tuple created in Q1."
   ]
  },
  {
   "cell_type": "code",
   "execution_count": 11,
   "id": "6a219972-fcbb-4537-89fa-f486402e9a62",
   "metadata": {},
   "outputs": [
    {
     "name": "stdout",
     "output_type": "stream",
     "text": [
      "Length of tuple: 4\n"
     ]
    }
   ],
   "source": [
    "print(\"Length of tuple:\", len(my_tuple))\n"
   ]
  },
  {
   "cell_type": "code",
   "execution_count": null,
   "id": "c77c6ee8-4816-4714-b8d4-6b2659e21507",
   "metadata": {},
   "outputs": [],
   "source": []
  }
 ],
 "metadata": {
  "kernelspec": {
   "display_name": "Python 3 (ipykernel)",
   "language": "python",
   "name": "python3"
  },
  "language_info": {
   "codemirror_mode": {
    "name": "ipython",
    "version": 3
   },
   "file_extension": ".py",
   "mimetype": "text/x-python",
   "name": "python",
   "nbconvert_exporter": "python",
   "pygments_lexer": "ipython3",
   "version": "3.12.7"
  }
 },
 "nbformat": 4,
 "nbformat_minor": 5
}
