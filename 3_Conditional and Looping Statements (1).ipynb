{
 "cells": [
  {
   "cell_type": "markdown",
   "id": "922877dd-ecc0-4489-b648-e98a22c1b9b9",
   "metadata": {},
   "source": [
    "Exercise 1 Name your file: MonthNames.py Write a program that reads an integer value between 1 and 12 from the user and prints output the corresponding month of the year. An example run of the program (numbers in bold are typed in by the user) Enter the month: 3 Month 3 is March "
   ]
  },
  {
   "cell_type": "code",
   "execution_count": 1,
   "id": "96a9e3f8-6c4c-4955-949d-55a1b9733a26",
   "metadata": {},
   "outputs": [
    {
     "name": "stdin",
     "output_type": "stream",
     "text": [
      "Enter the month:  4\n"
     ]
    },
    {
     "name": "stdout",
     "output_type": "stream",
     "text": [
      "Month 4 is April\n"
     ]
    }
   ],
   "source": [
    "month = int(input(\"Enter the month: \"))\n",
    "months = [\"January\", \"February\", \"March\", \"April\", \"May\", \"June\",\n",
    "          \"July\", \"August\", \"September\", \"October\", \"November\", \"December\"]\n",
    "\n",
    "if 1 <= month <= 12:\n",
    "    print(f\"Month {month} is {months[month - 1]}\")\n",
    "else:\n",
    "    print(\"Invalid month. Please enter a number between 1 and 12.\")\n"
   ]
  },
  {
   "cell_type": "markdown",
   "id": "ce2f555a-2c6b-4a0b-8f7f-878761661c31",
   "metadata": {},
   "source": [
    "Exercise 2 A certain cinema currently sells tickets for a full price of 6 pounds, but always sells tickets for half price to people who are less than 16 years old, and for a third of the price for people who are 60 years old or more. An example run of the program (numbers in bold are typed in by the user) Enter your age: 63 Your ticket costs £2.00 "
   ]
  },
  {
   "cell_type": "code",
   "execution_count": 2,
   "id": "790edba2-af16-438e-8f47-37bf1d2b6d38",
   "metadata": {},
   "outputs": [
    {
     "name": "stdin",
     "output_type": "stream",
     "text": [
      "Enter your age:  63\n"
     ]
    },
    {
     "name": "stdout",
     "output_type": "stream",
     "text": [
      "Your ticket costs £2.00\n"
     ]
    }
   ],
   "source": [
    "age = int(input(\"Enter your age: \"))\n",
    "price = 6.00\n",
    "\n",
    "if age < 16:\n",
    "    cost = price / 2\n",
    "elif age >= 60:\n",
    "    cost = price / 3\n",
    "else:\n",
    "    cost = price\n",
    "\n",
    "print(f\"Your ticket costs £{cost:.2f}\")\n"
   ]
  },
  {
   "cell_type": "markdown",
   "id": "152fc4e4-0e60-4092-95c5-0f13a51bb4d6",
   "metadata": {},
   "source": [
    "Exercise 3 Name your file: BodyMassIndex.py Write a program to calculate your BMI and give weight status. Body Mass Index (BMI) is an internationally used measurement to check if you are a healthy weight for your height.The metric BMI formula accepts weight in kilograms and height in meters: BMI= weight(kg)/height2(m2) BMI Weight Status Categories table BMI range - kg/m2 Category Below 18.5 Underweight 18.5 -24.9 Normal 25 - 29.9 Overweight 30 & Above Obese An example run of the program (numbers in bold are typed in by the user) Enter your weight in (kg): 75 Enter your height in (m): 1.70 Your BMI is: 25.95 You are in the “overweight” range. "
   ]
  },
  {
   "cell_type": "code",
   "execution_count": 5,
   "id": "8ecc665a-e8f6-41c9-ac33-a42a3ddb2033",
   "metadata": {},
   "outputs": [
    {
     "name": "stdin",
     "output_type": "stream",
     "text": [
      "Enter your weight in (kg):  50\n",
      "Enter your height in (m):  1.54\n"
     ]
    },
    {
     "name": "stdout",
     "output_type": "stream",
     "text": [
      "Your BMI is: 21.08\n",
      "You are in the 'Normal' range.\n"
     ]
    }
   ],
   "source": [
    "weight = float(input(\"Enter your weight in (kg): \"))\n",
    "height = float(input(\"Enter your height in (m): \"))\n",
    "\n",
    "bmi = weight / (height ** 2)\n",
    "print(f\"Your BMI is: {bmi:.2f}\")\n",
    "\n",
    "if bmi < 18.5:\n",
    "    print(\"You are in the 'Underweight' range.\")\n",
    "elif bmi < 25:\n",
    "    print(\"You are in the 'Normal' range.\")\n",
    "elif bmi < 30:\n",
    "    print(\"You are in the 'Overweight' range.\")\n",
    "else:\n",
    "    print(\"You are in the 'Obese' range.\")\n"
   ]
  },
  {
   "cell_type": "markdown",
   "id": "fdb2e180-50a7-44ba-a2e7-e6abfa2ee407",
   "metadata": {},
   "source": [
    "Exercise 4 Write a Python program to receive 3 numbers from the user and print the greatest among them. "
   ]
  },
  {
   "cell_type": "code",
   "execution_count": 6,
   "id": "957354f9-a500-4dd3-a2b8-37b3701d65c0",
   "metadata": {},
   "outputs": [
    {
     "name": "stdin",
     "output_type": "stream",
     "text": [
      "Enter first number:  65\n",
      "Enter second number:  21\n",
      "Enter third number:  43\n"
     ]
    },
    {
     "name": "stdout",
     "output_type": "stream",
     "text": [
      "The greatest number is 65\n"
     ]
    }
   ],
   "source": [
    "a = int(input(\"Enter first number: \"))\n",
    "b = int(input(\"Enter second number: \"))\n",
    "c = int(input(\"Enter third number: \"))\n",
    "\n",
    "if a >= b and a >= c:\n",
    "    greatest = a\n",
    "elif b >= a and b >= c:\n",
    "    greatest = b\n",
    "else:\n",
    "    greatest = c\n",
    "\n",
    "print(f\"The greatest number is {greatest}\")\n"
   ]
  },
  {
   "cell_type": "markdown",
   "id": "842a100e-db5f-4273-a356-f35e7618c32d",
   "metadata": {},
   "source": [
    "Exercise 5 Find the factorial of a given number using loops(note the number is received from the user) "
   ]
  },
  {
   "cell_type": "code",
   "execution_count": 8,
   "id": "a06a46ca-2199-4c75-8ea3-c1a0889b91ea",
   "metadata": {},
   "outputs": [
    {
     "name": "stdin",
     "output_type": "stream",
     "text": [
      "Enter a number:  65\n"
     ]
    },
    {
     "name": "stdout",
     "output_type": "stream",
     "text": [
      "The factorial of 65 is 8247650592082470666723170306785496252186258551345437492922123134388955774976000000000000000\n"
     ]
    }
   ],
   "source": [
    "num = int(input(\"Enter a number: \"))\n",
    "factorial = 1\n",
    "\n",
    "for i in range(1, num + 1):\n",
    "    factorial *= i\n",
    "\n",
    "print(f\"The factorial of {num} is {factorial}\")\n"
   ]
  },
  {
   "cell_type": "markdown",
   "id": "642f2143-cbbc-4872-8cfa-9a84c1ba3ecb",
   "metadata": {},
   "source": [
    "Exercise 6 Reverse a number using while loop "
   ]
  },
  {
   "cell_type": "code",
   "execution_count": 9,
   "id": "f266e8a8-51f0-4ec4-94cd-ac4a975d9fc4",
   "metadata": {},
   "outputs": [
    {
     "name": "stdin",
     "output_type": "stream",
     "text": [
      "Enter a number:  54\n"
     ]
    },
    {
     "name": "stdout",
     "output_type": "stream",
     "text": [
      "Reversed number is 45\n"
     ]
    }
   ],
   "source": [
    "num = int(input(\"Enter a number: \"))\n",
    "reverse = 0\n",
    "\n",
    "while num > 0:\n",
    "    digit = num % 10\n",
    "    reverse = reverse * 10 + digit\n",
    "    num = num // 10\n",
    "\n",
    "print(f\"Reversed number is {reverse}\")\n"
   ]
  },
  {
   "cell_type": "markdown",
   "id": "7e916ca5-55ed-4549-883f-ee9fee02a237",
   "metadata": {},
   "source": [
    "Exercise 7 Finding the multiples of a number using loop "
   ]
  },
  {
   "cell_type": "code",
   "execution_count": 10,
   "id": "23f4c8c9-8dfa-449f-9087-d8cb9f15802c",
   "metadata": {},
   "outputs": [
    {
     "name": "stdin",
     "output_type": "stream",
     "text": [
      "Enter a number:  4\n",
      "Enter how many multiples you want:  4\n"
     ]
    },
    {
     "name": "stdout",
     "output_type": "stream",
     "text": [
      "Multiples of 4 are:\n",
      "4\n",
      "8\n",
      "12\n",
      "16\n"
     ]
    }
   ],
   "source": [
    "num = int(input(\"Enter a number: \"))\n",
    "limit = int(input(\"Enter how many multiples you want: \"))\n",
    "\n",
    "print(f\"Multiples of {num} are:\")\n",
    "for i in range(1, limit + 1):\n",
    "    print(num * i)\n"
   ]
  },
  {
   "cell_type": "markdown",
   "id": "c768e8a2-6bd3-4e61-9df3-d730402e0231",
   "metadata": {},
   "source": [
    "Exercise 8 Write a program to print the inputted value as it is and break the loop if the value is 'done'. Example run of the program :hello there hello there :finished finished :done Done "
   ]
  },
  {
   "cell_type": "code",
   "execution_count": 11,
   "id": "183bfb23-e096-44cb-ac66-300a9d2995b3",
   "metadata": {},
   "outputs": [
    {
     "name": "stdin",
     "output_type": "stream",
     "text": [
      ": hello there\n"
     ]
    },
    {
     "name": "stdout",
     "output_type": "stream",
     "text": [
      "hello there\n"
     ]
    },
    {
     "name": "stdin",
     "output_type": "stream",
     "text": [
      ": finished\n"
     ]
    },
    {
     "name": "stdout",
     "output_type": "stream",
     "text": [
      "finished\n"
     ]
    },
    {
     "name": "stdin",
     "output_type": "stream",
     "text": [
      ": done\n"
     ]
    },
    {
     "name": "stdout",
     "output_type": "stream",
     "text": [
      "Done\n"
     ]
    }
   ],
   "source": [
    "while True:\n",
    "    value = input(\":\")\n",
    "    if value.lower() == \"done\":\n",
    "        print(\"Done\")\n",
    "        break\n",
    "    else:\n",
    "        print(value)\n"
   ]
  },
  {
   "cell_type": "markdown",
   "id": "5ec8c162-e5a3-4f5b-89bc-fc7ffc561e68",
   "metadata": {},
   "source": [
    "Exercise 9 Write a program that prints the numbers from 1 to 10. But for multiples of three print \"Fizz\" instead of the number and for the multiple of five print \"Buzz\". For numbers which are multiples of both three and five print \"FizzBuzz\" "
   ]
  },
  {
   "cell_type": "code",
   "execution_count": 12,
   "id": "da105f48-ee09-4288-950e-db1b0b88fe58",
   "metadata": {},
   "outputs": [
    {
     "name": "stdout",
     "output_type": "stream",
     "text": [
      "1\n",
      "2\n",
      "Fizz\n",
      "4\n",
      "Buzz\n",
      "Fizz\n",
      "7\n",
      "8\n",
      "Fizz\n",
      "Buzz\n"
     ]
    }
   ],
   "source": [
    "for i in range(1, 11):\n",
    "    if i % 3 == 0 and i % 5 == 0:\n",
    "        print(\"FizzBuzz\")\n",
    "    elif i % 3 == 0:\n",
    "        print(\"Fizz\")\n",
    "    elif i % 5 == 0:\n",
    "        print(\"Buzz\")\n",
    "    else:\n",
    "        print(i)\n"
   ]
  },
  {
   "cell_type": "markdown",
   "id": "fa80550c-cb56-4f2a-a6e8-ae794c68d6f3",
   "metadata": {},
   "source": [
    "Exercise 10 Write a program to print the following pattern: 5 4 3 2 1 4 3 2 1 3 2 1 2 1 1."
   ]
  },
  {
   "cell_type": "code",
   "execution_count": 4,
   "id": "c25c9b2f-c038-48d4-9dd8-f05f824f648f",
   "metadata": {},
   "outputs": [
    {
     "name": "stdout",
     "output_type": "stream",
     "text": [
      "5 4 3 2 1 \n",
      "4 3 2 1 \n",
      "3 2 1 \n",
      "2 1 \n",
      "1 \n"
     ]
    }
   ],
   "source": [
    "for i in range(5, 0, -1):\n",
    "    for j in range(i, 0, -1):\n",
    "        print(j, end=' ')\n",
    "    print()\n"
   ]
  },
  {
   "cell_type": "code",
   "execution_count": null,
   "id": "289cf675-288d-4b4c-9efc-e73ae44ce5e3",
   "metadata": {},
   "outputs": [],
   "source": []
  }
 ],
 "metadata": {
  "kernelspec": {
   "display_name": "Python 3 (ipykernel)",
   "language": "python",
   "name": "python3"
  },
  "language_info": {
   "codemirror_mode": {
    "name": "ipython",
    "version": 3
   },
   "file_extension": ".py",
   "mimetype": "text/x-python",
   "name": "python",
   "nbconvert_exporter": "python",
   "pygments_lexer": "ipython3",
   "version": "3.12.7"
  }
 },
 "nbformat": 4,
 "nbformat_minor": 5
}
