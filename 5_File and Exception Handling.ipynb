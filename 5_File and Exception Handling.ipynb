{
 "cells": [
  {
   "cell_type": "markdown",
   "id": "386a1c85-4f50-41d9-9141-bd5181f072ef",
   "metadata": {},
   "source": [
    "Exercise 1: Write a Python program to read a file and display its contents "
   ]
  },
  {
   "cell_type": "code",
   "execution_count": 7,
   "id": "2a3f42bc-17f3-4d6c-ac29-78089c9e957f",
   "metadata": {},
   "outputs": [
    {
     "name": "stdout",
     "output_type": "stream",
     "text": [
      "sample.txt created.\n"
     ]
    }
   ],
   "source": [
    "sample_content = \"\"\"This is a sample text file.\n",
    "It contains multiple lines of text.\n",
    "You can use this file for reading, copying, and counting words.\n",
    "Python makes file handling simple and efficient.\"\"\"\n",
    "\n",
    "# Save the file in the current directory\n",
    "with open(\"sample.txt\", \"w\") as f:\n",
    "    f.write(sample_content)\n",
    "\n",
    "print(\"sample.txt created.\")\n"
   ]
  },
  {
   "cell_type": "code",
   "execution_count": 8,
   "id": "83fb3a4c-12c9-4ffa-b846-01c0405c5e62",
   "metadata": {},
   "outputs": [
    {
     "name": "stdin",
     "output_type": "stream",
     "text": [
      "Enter filename to read:  sample.txt\n"
     ]
    },
    {
     "name": "stdout",
     "output_type": "stream",
     "text": [
      "\n",
      "File Contents:\n",
      "\n",
      "This is a sample text file.\n",
      "It contains multiple lines of text.\n",
      "You can use this file for reading, copying, and counting words.\n",
      "Python makes file handling simple and efficient.\n"
     ]
    }
   ],
   "source": [
    "filename = input(\"Enter filename to read: \")\n",
    "try:\n",
    "    with open(filename, 'r') as file:\n",
    "        contents = file.read()\n",
    "        print(\"\\nFile Contents:\\n\")\n",
    "        print(contents)\n",
    "except FileNotFoundError:\n",
    "    print(\"File not found!\")\n"
   ]
  },
  {
   "cell_type": "markdown",
   "id": "5cfeba0c-c3b9-4631-a23e-9521752cdbe5",
   "metadata": {},
   "source": [
    "Exercise 2: Write a Python program to copy the contents of one file to another file "
   ]
  },
  {
   "cell_type": "code",
   "execution_count": 10,
   "id": "7b407b8f-d679-4ae7-a535-b1e8042f9a7c",
   "metadata": {},
   "outputs": [
    {
     "name": "stdin",
     "output_type": "stream",
     "text": [
      "Enter source filename:  sample\n",
      "Enter destination filename:  downloads\n"
     ]
    },
    {
     "name": "stdout",
     "output_type": "stream",
     "text": [
      "Source file not found.\n"
     ]
    }
   ],
   "source": [
    "source = input(\"Enter source filename: \")\n",
    "destination = input(\"Enter destination filename: \")\n",
    "\n",
    "try:\n",
    "    with open(source, 'r') as src_file:\n",
    "        data = src_file.read()\n",
    "    \n",
    "    with open(destination, 'w') as dest_file:\n",
    "        dest_file.write(data)\n",
    "\n",
    "    print(\"File copied successfully.\")\n",
    "except FileNotFoundError:\n",
    "    print(\"Source file not found.\")\n"
   ]
  },
  {
   "cell_type": "markdown",
   "id": "d48224c6-e7a5-4323-a9e4-6d5cdd4cd80b",
   "metadata": {},
   "source": [
    "Exercise 3: Write a Python program to read the content of a file and count the total number of words in that file. "
   ]
  },
  {
   "cell_type": "code",
   "execution_count": 11,
   "id": "cbf7c7bc-0161-4146-bf23-fdba079aa91b",
   "metadata": {},
   "outputs": [
    {
     "name": "stdin",
     "output_type": "stream",
     "text": [
      "Enter filename to count words:  sample.txt\n"
     ]
    },
    {
     "name": "stdout",
     "output_type": "stream",
     "text": [
      "Total number of words: 30\n"
     ]
    }
   ],
   "source": [
    "filename = input(\"Enter filename to count words: \")\n",
    "try:\n",
    "    with open(filename, 'r') as file:\n",
    "        content = file.read()\n",
    "        words = content.split()\n",
    "        print(\"Total number of words:\", len(words))\n",
    "except FileNotFoundError:\n",
    "    print(\"File not found.\")\n"
   ]
  },
  {
   "cell_type": "markdown",
   "id": "46e08a4b-5fad-45a9-be19-15bbb3172b9f",
   "metadata": {},
   "source": [
    "Exercise 4: Write a Python program that prompts the user to input a string and converts it to an integer. Use try-except blocks to handle any exceptions that might occur "
   ]
  },
  {
   "cell_type": "code",
   "execution_count": 14,
   "id": "770808df-a264-443b-bd9d-2793bee9829d",
   "metadata": {},
   "outputs": [
    {
     "name": "stdin",
     "output_type": "stream",
     "text": [
      "Enter a number:  54\n"
     ]
    },
    {
     "name": "stdout",
     "output_type": "stream",
     "text": [
      "Integer value: 54\n"
     ]
    }
   ],
   "source": [
    "try:\n",
    "    user_input = input(\"Enter a number: \")\n",
    "    number = int(user_input)\n",
    "    print(\"Integer value:\", number)\n",
    "except ValueError:\n",
    "    print(\"Invalid input! Please enter a valid integer.\")\n"
   ]
  },
  {
   "cell_type": "markdown",
   "id": "80dbd4ad-0090-4797-b1b0-b02a2c84eb73",
   "metadata": {},
   "source": [
    "Exercise 5: Write a Python program that prompts the user to input a list of integers and raises an exception if any of the integers in the list are negative. "
   ]
  },
  {
   "cell_type": "code",
   "execution_count": 17,
   "id": "3cf00c59-42cd-4358-8cc6-390442ab7562",
   "metadata": {},
   "outputs": [
    {
     "name": "stdin",
     "output_type": "stream",
     "text": [
      "Enter a list of integers (space separated):  2 344 12\n"
     ]
    },
    {
     "name": "stdout",
     "output_type": "stream",
     "text": [
      "All numbers are non-negative.\n"
     ]
    }
   ],
   "source": [
    "try:\n",
    "    nums = list(map(int, input(\"Enter a list of integers (space separated): \").split()))\n",
    "    for n in nums:\n",
    "        if n < 0:\n",
    "            raise ValueError(\"Negative numbers are not allowed.\")\n",
    "    print(\"All numbers are non-negative.\")\n",
    "except ValueError as e:\n",
    "    print(\"Error:\", e)\n"
   ]
  },
  {
   "cell_type": "markdown",
   "id": "639cbf1f-0e00-40f0-a917-e5942cb9244f",
   "metadata": {},
   "source": [
    "Exercise 6: Write a Python program that prompts the user to input a list of integers and computes the average of those integers. Use try-except blocks to handle any exceptions that might occur.use the finally clause to print a message indicating that the program has finished running. "
   ]
  },
  {
   "cell_type": "code",
   "execution_count": 18,
   "id": "d53ff810-0dba-4f90-9915-494548b3f8ec",
   "metadata": {},
   "outputs": [
    {
     "name": "stdin",
     "output_type": "stream",
     "text": [
      "Enter integers separated by space:  5 64 79 422\n"
     ]
    },
    {
     "name": "stdout",
     "output_type": "stream",
     "text": [
      "Average: 142.5\n",
      "Program has finished running.\n"
     ]
    }
   ],
   "source": [
    "try:\n",
    "    numbers = list(map(int, input(\"Enter integers separated by space: \").split()))\n",
    "    avg = sum(numbers) / len(numbers)\n",
    "    print(\"Average:\", avg)\n",
    "except ZeroDivisionError:\n",
    "    print(\"List is empty, cannot compute average.\")\n",
    "except ValueError:\n",
    "    print(\"Please enter valid integers.\")\n",
    "finally:\n",
    "    print(\"Program has finished running.\")\n"
   ]
  },
  {
   "cell_type": "markdown",
   "id": "94fbc44f-fa3f-44de-81cb-9a26e39ae6bc",
   "metadata": {},
   "source": [
    "Exercise 7 : Write a Python program that prompts the user to input a filename and writes a string to that file. Use try-except blocks to handle any exceptions that might occur and print a welcome message if there is no exception occurred."
   ]
  },
  {
   "cell_type": "code",
   "execution_count": 19,
   "id": "597f2e2d-7563-4cd6-ad49-19be936eb0f0",
   "metadata": {},
   "outputs": [
    {
     "name": "stdin",
     "output_type": "stream",
     "text": [
      "Enter filename to write to:  sample.txt\n"
     ]
    },
    {
     "name": "stdout",
     "output_type": "stream",
     "text": [
      "File written successfully. Welcome!\n"
     ]
    }
   ],
   "source": [
    "filename = input(\"Enter filename to write to: \")\n",
    "try:\n",
    "    with open(filename, 'w') as file:\n",
    "        file.write(\"Welcome to file operations in Python!\")\n",
    "    print(\"File written successfully. Welcome!\")\n",
    "except Exception as e:\n",
    "    print(\"An error occurred:\", e)\n"
   ]
  },
  {
   "cell_type": "code",
   "execution_count": null,
   "id": "ed58aaec-1eba-46b6-aa5c-6e5ad8d9b4f2",
   "metadata": {},
   "outputs": [],
   "source": []
  }
 ],
 "metadata": {
  "kernelspec": {
   "display_name": "Python 3 (ipykernel)",
   "language": "python",
   "name": "python3"
  },
  "language_info": {
   "codemirror_mode": {
    "name": "ipython",
    "version": 3
   },
   "file_extension": ".py",
   "mimetype": "text/x-python",
   "name": "python",
   "nbconvert_exporter": "python",
   "pygments_lexer": "ipython3",
   "version": "3.12.7"
  }
 },
 "nbformat": 4,
 "nbformat_minor": 5
}
