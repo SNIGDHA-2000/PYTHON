{
 "cells": [
  {
   "cell_type": "raw",
   "id": "6f83d29c-538e-472c-9117-a5d4a1076273",
   "metadata": {},
   "source": [
    "Exercise 1: (Score : 1) Create a numpy array containing the numbers from 1 to 10, and then reshape it to a 2x5 matrix. "
   ]
  },
  {
   "cell_type": "code",
   "execution_count": 1,
   "id": "9256fd30-aa6d-4a13-b8bc-cb6cc29c5c06",
   "metadata": {},
   "outputs": [
    {
     "name": "stdout",
     "output_type": "stream",
     "text": [
      "[[ 1  2  3  4  5]\n",
      " [ 6  7  8  9 10]]\n"
     ]
    }
   ],
   "source": [
    "import numpy as np\n",
    "\n",
    "arr = np.arange(1, 11)\n",
    "reshaped_arr = arr.reshape(2, 5)\n",
    "print(reshaped_arr)\n"
   ]
  },
  {
   "cell_type": "raw",
   "id": "e3b76e55-27d4-4f43-8691-92b9a4abb77a",
   "metadata": {},
   "source": [
    "Exercise 2: (Score : 1) Create a numpy array containing the numbers from 1 to 20, and then extract the elements between the 5th and 15th index. "
   ]
  },
  {
   "cell_type": "code",
   "execution_count": 2,
   "id": "0956e189-cce2-43f6-b14d-ec4807b5ba83",
   "metadata": {},
   "outputs": [
    {
     "name": "stdout",
     "output_type": "stream",
     "text": [
      "[ 6  7  8  9 10 11 12 13 14 15 16]\n"
     ]
    }
   ],
   "source": [
    "arr = np.arange(1, 21)\n",
    "sliced = arr[5:16]  # from index 5 to 15\n",
    "print(sliced)\n"
   ]
  },
  {
   "cell_type": "raw",
   "id": "ad19d7d6-f4ff-4d16-88b0-901b6d1dcd88",
   "metadata": {},
   "source": [
    "Exercise 3: (Score : 2) Create a Pandas series with the following data: {'apples': 3, 'bananas': 2, 'oranges': 1}. Then, add a new item to the series with the key 'pears' and the value 4. "
   ]
  },
  {
   "cell_type": "code",
   "execution_count": 3,
   "id": "a90df850-f03f-4965-b17b-001f72637b89",
   "metadata": {},
   "outputs": [
    {
     "name": "stdout",
     "output_type": "stream",
     "text": [
      "apples     3\n",
      "bananas    2\n",
      "oranges    1\n",
      "pears      4\n",
      "dtype: int64\n"
     ]
    }
   ],
   "source": [
    "import pandas as pd\n",
    "\n",
    "fruits = pd.Series({'apples': 3, 'bananas': 2, 'oranges': 1})\n",
    "fruits['pears'] = 4\n",
    "print(fruits)\n"
   ]
  },
  {
   "cell_type": "raw",
   "id": "747161bf-dad8-477c-ab62-b806268b12ed",
   "metadata": {},
   "source": [
    "Exercise 4: (Score : 2) Create a dataframe with the following columns: name, age, and gender. The dataframe should have 10 rows of data. "
   ]
  },
  {
   "cell_type": "code",
   "execution_count": 4,
   "id": "1ee6254c-54db-4f3d-bd9f-5487e4c5b18e",
   "metadata": {},
   "outputs": [
    {
     "name": "stdout",
     "output_type": "stream",
     "text": [
      "      name  age gender\n",
      "0    Alice   25      F\n",
      "1      Bob   32      M\n",
      "2  Charlie   28      M\n",
      "3    David   40      M\n",
      "4      Eve   22      F\n",
      "5      Fay   30      F\n",
      "6    Grace   26      F\n",
      "7     Hank   38      M\n",
      "8      Ivy   29      F\n",
      "9     John   33      M\n"
     ]
    }
   ],
   "source": [
    "data = {\n",
    "    'name': ['Alice', 'Bob', 'Charlie', 'David', 'Eve', 'Fay', 'Grace', 'Hank', 'Ivy', 'John'],\n",
    "    'age': [25, 32, 28, 40, 22, 30, 26, 38, 29, 33],\n",
    "    'gender': ['F', 'M', 'M', 'M', 'F', 'F', 'F', 'M', 'F', 'M']\n",
    "}\n",
    "df = pd.DataFrame(data)\n",
    "print(df)\n"
   ]
  },
  {
   "cell_type": "raw",
   "id": "be52a9fd-8beb-4690-9bba-86c3a8392714",
   "metadata": {},
   "source": [
    "Exercise 5: (Score : 1) Add a new column to the data frame created in question 1, called occupation. The values for this column should be Programmer, Manager, and Analyst, corresponding to the rows in the dataframe. "
   ]
  },
  {
   "cell_type": "code",
   "execution_count": 5,
   "id": "726de7df-c2bc-4080-851b-db47bb5929ee",
   "metadata": {},
   "outputs": [
    {
     "name": "stdout",
     "output_type": "stream",
     "text": [
      "      name  age gender  occupation\n",
      "0    Alice   25      F  Programmer\n",
      "1      Bob   32      M     Manager\n",
      "2  Charlie   28      M     Analyst\n",
      "3    David   40      M  Programmer\n",
      "4      Eve   22      F     Manager\n",
      "5      Fay   30      F     Analyst\n",
      "6    Grace   26      F  Programmer\n",
      "7     Hank   38      M     Manager\n",
      "8      Ivy   29      F     Analyst\n",
      "9     John   33      M  Programmer\n"
     ]
    }
   ],
   "source": [
    "occupations = ['Programmer', 'Manager', 'Analyst', 'Programmer', 'Manager', 'Analyst', 'Programmer', 'Manager', 'Analyst', 'Programmer']\n",
    "df['occupation'] = occupations\n",
    "print(df)\n"
   ]
  },
  {
   "cell_type": "raw",
   "id": "41d0626c-2009-49cd-a5e0-fa9647240cdf",
   "metadata": {},
   "source": [
    "Exercise 6: (Score : 1) Select the rows of the dataframe where the age is greater than or equal to 30. "
   ]
  },
  {
   "cell_type": "code",
   "execution_count": 6,
   "id": "b8f39506-f71a-4eae-9005-9b6d83f158b8",
   "metadata": {},
   "outputs": [
    {
     "name": "stdout",
     "output_type": "stream",
     "text": [
      "    name  age gender  occupation\n",
      "1    Bob   32      M     Manager\n",
      "3  David   40      M  Programmer\n",
      "5    Fay   30      F     Analyst\n",
      "7   Hank   38      M     Manager\n",
      "9   John   33      M  Programmer\n"
     ]
    }
   ],
   "source": [
    "age_30_plus = df[df['age'] >= 30]\n",
    "print(age_30_plus)\n"
   ]
  },
  {
   "cell_type": "raw",
   "id": "7fd15d4c-7d3f-48b6-8f16-1fcf8a61c814",
   "metadata": {},
   "source": [
    "Exercise 7: (Score : 2) Convert this dataframe to a csv file and read that csv file, finally display the contents."
   ]
  },
  {
   "cell_type": "code",
   "execution_count": 7,
   "id": "1f92af27-3623-488e-a0c8-41701aa33212",
   "metadata": {},
   "outputs": [
    {
     "name": "stdout",
     "output_type": "stream",
     "text": [
      "      name  age gender  occupation\n",
      "0    Alice   25      F  Programmer\n",
      "1      Bob   32      M     Manager\n",
      "2  Charlie   28      M     Analyst\n",
      "3    David   40      M  Programmer\n",
      "4      Eve   22      F     Manager\n",
      "5      Fay   30      F     Analyst\n",
      "6    Grace   26      F  Programmer\n",
      "7     Hank   38      M     Manager\n",
      "8      Ivy   29      F     Analyst\n",
      "9     John   33      M  Programmer\n"
     ]
    }
   ],
   "source": [
    "# Save to CSV\n",
    "df.to_csv('people.csv', index=False)\n",
    "\n",
    "# Read from CSV\n",
    "read_df = pd.read_csv('people.csv')\n",
    "print(read_df)\n"
   ]
  },
  {
   "cell_type": "code",
   "execution_count": null,
   "id": "f6ad0200-a126-4417-8ae9-c84a88292ae3",
   "metadata": {},
   "outputs": [],
   "source": []
  }
 ],
 "metadata": {
  "kernelspec": {
   "display_name": "Python 3 (ipykernel)",
   "language": "python",
   "name": "python3"
  },
  "language_info": {
   "codemirror_mode": {
    "name": "ipython",
    "version": 3
   },
   "file_extension": ".py",
   "mimetype": "text/x-python",
   "name": "python",
   "nbconvert_exporter": "python",
   "pygments_lexer": "ipython3",
   "version": "3.12.7"
  }
 },
 "nbformat": 4,
 "nbformat_minor": 5
}
